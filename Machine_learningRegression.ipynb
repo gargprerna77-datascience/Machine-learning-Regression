{
  "nbformat": 4,
  "nbformat_minor": 0,
  "metadata": {
    "colab": {
      "provenance": []
    },
    "kernelspec": {
      "name": "python3",
      "display_name": "Python 3"
    },
    "language_info": {
      "name": "python"
    }
  },
  "cells": [
    {
      "cell_type": "markdown",
      "metadata": {
        "id": "e3a7ff87"
      },
      "source": [
        "Question 1: What is Simple Linear Regression?\n",
        "\n",
        "Answer: Simple linear regression is a statistical method for modeling the linear relationship between two continuous variables: one dependent variable (the outcome) and one independent variable (the predictor). It works by fitting a straight line of best fit to the data points to estimate how changes in the independent variable affect the dependent variable, allowing for predictions to be made. The \"simple\" in simple linear regression refers to having only one independent variable.\n",
        "\n",
        "Key Components\n",
        "Dependent Variable (Y): The variable you are trying to predict or explain.\n",
        "Independent Variable (X): The variable used to predict the dependent variable.\n",
        "Line of Best Fit: A straight line that best represents the relationship between the two variables in a scatter plot.\n",
        "Intercept (β₀): The point where the regression line crosses the y-axis, representing the predicted value of the dependent variable when the independent variable is zero.\n",
        "Slope (β₁): The change in the dependent variable for a one-unit increase in the independent variable.\n",
        "Error Term (ε): Accounts for the variability not explained by the linear relationship between the variables.\n",
        "How it Works\n",
        "1. Plot Data:\n",
        "The relationship is visualized on a scatter plot with the independent variable on the horizontal axis (x-axis) and the dependent variable on the vertical axis (y-axis).\n",
        "2. Fit the Line:\n",
        "A regression line is drawn through the data points.\n",
        "3. Estimate the Relationship:\n",
        "The statistical process, often using the Ordinary Least Squares (OLS) method, finds the line that minimizes the sum of the squared differences between the observed data points and the predicted values from the line.\n",
        "4. Make Predictions:\n",
        "The equation of this line can then be used to predict the dependent variable for new, unobserved values of the independent variable.\n",
        "Example\n",
        "A classic example is predicting a person's weight (dependent variable) based on their height (independent variable). You would plot height and weight data, find the best-fitting straight line, and then use that line to estimate a person's weight given their height."
      ]
    },
    {
      "cell_type": "markdown",
      "source": [
        "Question 2: What are the key assumptions of Simple Linear Regression?\n",
        "\n",
        "Answer: The key assumptions for Simple Linear Regression are: Linearity, meaning a straight-line relationship between variables; Independence of Errors, where residuals are not correlated; Homoscedasticity, requiring constant variance of errors across all independent variable levels; and Normality, where residuals follow a normal distribution. For multiple regression, a fifth assumption of No Multicollinearity is also critical, ensuring independent variables aren't highly correlated.\n",
        "1. Linearity\n",
        "What it means:\n",
        "The relationship between the independent variable (X) and the dependent variable (Y) can be represented by a straight line.\n",
        "Why it's important:\n",
        "If the true relationship is non-linear, a linear model cannot accurately capture it, leading to poor model fit and predictions.\n",
        "2. Independence of Errors\n",
        "What it means: The errors (or residuals) in the model are independent of each other.\n",
        "Why it's important: This assumption ensures that the errors are randomly distributed and that one observation's error doesn't influence another's, which is crucial for the accuracy of the model's parameter estimates and statistical significance.\n",
        "3. Homoscedasticity\n",
        "What it means:\n",
        "The variance of the errors is constant across all levels of the independent variable.\n",
        "Why it's important:\n",
        "Violating this assumption (known as heteroscedasticity) means the spread of errors isn't consistent, which can affect the reliability of confidence intervals and significance tests.\n",
        "4. Normality of Errors\n",
        "What it means:\n",
        "The residuals (the differences between observed and predicted values) are normally distributed.\n",
        "Why it's important:\n",
        "This assumption is particularly important for smaller sample sizes and is necessary for the validity of statistical inference, such as hypothesis testing.\n",
        "5. No Multicollinearity (for Multiple Regression)\n",
        "What it means:\n",
        "In models with more than one independent variable, these variables should not be highly correlated with each other.\n",
        "Why it's important:\n",
        "High multicollinearity makes it difficult to determine the independent effect of each predictor, leading to unstable coefficient estimates."
      ],
      "metadata": {
        "id": "kwEl7PUoHF48"
      }
    },
    {
      "cell_type": "markdown",
      "source": [
        "Question 3: What is heteroscedasticity, and why is it important to address in regression\n",
        "models?\n",
        "\n",
        "Answer: Heteroscedasticity is a regression condition where the variance of the error terms is not constant across all levels of the independent variables. It's important to address because it invalidates the standard errors of the regression coefficients, making confidence intervals and hypothesis tests unreliable and potentially leading to incorrect conclusions about the model's findings.\n",
        "\n",
        "What is Heteroscedasticity?\n",
        "Unequal Variance:\n",
        "In simple terms, heteroscedasticity means the data points are not equally scattered around the regression line.\n",
        "Changing Spread:\n",
        "The spread of the residuals (the difference between observed and predicted values) changes systematically as the independent variables change.\n",
        "Violation of Homoscedasticity:\n",
        "This is a violation of the assumption of homoscedasticity, which states that the variance of the errors should be constant.\n",
        "Why is it Important to Address?\n",
        "Unreliable Standard Errors:\n",
        "Heteroscedasticity leads to incorrect estimates of the standard errors of the regression coefficients.\n",
        "Invalid Inference:\n",
        "Because the standard errors are wrong, the confidence intervals and hypothesis tests (like t-tests and F-tests) that are based on them are also unreliable.\n",
        "Incorrect Conclusions:\n",
        "This can lead you to draw incorrect conclusions about the statistical significance of your independent variables.\n",
        "Inefficient Estimates:\n",
        "The coefficient estimates (the slopes) may still be unbiased but become inefficient, meaning they are not the best possible estimates.\n",
        "What to do if you have Heteroscedasticity?\n",
        "To ensure accurate results, you should address heteroscedasticity by:\n",
        "Using Robust Standard Errors:\n",
        "These are adjustments to the standard errors that are more reliable even with heteroscedasticity present.\n",
        "Applying Data Transformations:\n",
        "Techniques like taking the logarithm, square root, or reciprocal of the data can help stabilize the variance.\n",
        "Using Weighted Least Squares:\n",
        "This method assigns lower weights to observations with larger variances and higher weights to those with smaller variances."
      ],
      "metadata": {
        "id": "u_jL-_16HH6i"
      }
    },
    {
      "cell_type": "markdown",
      "source": [
        "Question 4: What is Multiple Linear Regression?\n",
        "\n",
        "Answer: Multiple Linear Regression (MLR) is a statistical technique used to model the relationship between one dependent variable and two or more independent variables to predict the dependent variable's value. It's an extension of simple linear regression, which uses only one independent variable, by adding more predictors to create a more comprehensive and potentially more accurate model. The core of MLR involves finding an equation that best fits the data, allowing for forecasting, trend analysis, and understanding how multiple factors influence a single outcome.\n",
        "Key Concepts\n",
        "Dependent Variable: The variable you want to predict or explain.\n",
        "Independent Variables: The variables used to predict the dependent variable.\n",
        "Coefficients: The weights or values assigned to each independent variable in the regression equation, indicating their individual contribution to the outcome.\n",
        "Error Term (ε): Represents the unexplained variability or error in the model, accounting for factors not included or inherent randomness.\n",
        "How it Works\n",
        "1. Identify Variables:\n",
        "Determine the dependent variable and the multiple independent variables that influence it.\n",
        "2. Build the Model:\n",
        "MLR fits an equation to the data, which is a linear combination of the independent variables. The equation takes the form: Y = β₀ + β₁X₁ + β₂X₂ + ... + βₚXₚ + ε.\n",
        "3. Estimate Coefficients:\n",
        "Statistical methods, like the method of least squares, are used to calculate the coefficients (β₀, β₁, etc.) that minimize the difference between the observed and predicted values.\n",
        "4. Make Predictions:\n",
        "Once the coefficients are determined, the equation can be used to predict the value of the dependent variable by inputting the values of the independent variables.\n",
        "Example\n",
        "To predict a house's price (dependent variable), you could use its square footage, number of bedrooms, and age (independent variables). MLR would analyze how each of these factors contributes to the price, allowing for a more informed prediction than if only one factor, like square footage, was used."
      ],
      "metadata": {
        "id": "Y5_NTD3cHII-"
      }
    },
    {
      "cell_type": "markdown",
      "metadata": {
        "id": "TKXk0fuSI4as"
      },
      "source": [
        "Question 5: What is polynomial regression, and how does it differ from linear\n",
        "regression?\n",
        "\n",
        "Answer: Polynomial regression fits a non-linear, curvilinear relationship to data by adding higher-degree polynomial terms (like x², x³, etc.) to the independent variable, while linear regression models only a straight-line relationship between variables. The key difference is that polynomial regression captures curved patterns, making it more flexible for complex relationships, whereas linear regression assumes a simpler, straight-line pattern and is limited by this assumption.\n",
        "What is Polynomial Regression?\n",
        "It's a form of regression analysis that models the relationship between an independent variable (x) and a dependent variable (y) as an nth-degree polynomial.\n",
        "It transforms the input variable by creating new features, such as x², x³, and so on, to fit curved trends in the data.\n",
        "The mathematical equation involves terms like: y = b₀ + b₁x + b₂x² + ... + bₖxᵏ + ε.\n",
        "It allows for more complex, non-linear relationships between variables than linear regression.\n",
        "How it Differs from Linear Regression\n",
        "Relationship Shape:\n",
        "Linear regression assumes a straight-line relationship, represented by the form y = b₀ + b₁x + ε. Polynomial regression, by contrast, captures curved patterns.\n",
        "Flexibility:\n",
        "Polynomial regression is more flexible than linear regression because it can fit complex, non-linear data trends that a simple straight line cannot.\n",
        "Feature Transformation:\n",
        "In polynomial regression, the input features are transformed into their polynomial powers (e.g., x becomes x², x³), while in linear regression, the features remain as they are.\n",
        "Model Complexity:\n",
        "The degree of the polynomial in polynomial regression is a hyperparameter that controls the complexity of the model. A higher degree allows the model to fit the data more closely but can lead to overfitting, while a lower degree can result in underfitting.\n",
        "In essence: You can think of polynomial regression as an extension of linear regression that allows for curved relationships by transforming the input features into higher powers. If you're trying to fit a straight line to your data, you use linear regression, but if you see a curve, polynomial regression is a suitable choice."
      ]
    },
    {
      "cell_type": "code",
      "source": [
        "#Question 6: Implement a Python program to fit a Simple Linear Regression model t the following sample data:\n",
        "# ● X = [1, 2, 3, 4, 5]\n",
        "# ● Y = [2.1, 4.3, 6.1, 7.9, 10.2]\n",
        "# Plot the regression line over the data points.\n",
        "# (Include your Python code and output in the code box below.)\n",
        "\n",
        "import numpy as np\n",
        "import matplotlib.pyplot as plt\n",
        "from sklearn.linear_model import LinearRegression\n",
        "\n",
        "# Sample data\n",
        "X = np.array([1, 2, 3, 4, 5]).reshape(-1, 1)\n",
        "Y = np.array([2.1, 4.3, 6.1, 7.9, 10.2])\n",
        "\n",
        "# Fit Simple Linear Regression model\n",
        "model = LinearRegression()\n",
        "model.fit(X, Y)\n",
        "\n",
        "# Predictions\n",
        "Y_pred = model.predict(X)\n",
        "\n",
        "# Plot data points and regression line\n",
        "plt.scatter(X, Y, color=\"blue\", label=\"Data points\")\n",
        "plt.plot(X, Y_pred, color=\"red\", linewidth=2, label=\"Regression line\")\n",
        "plt.xlabel(\"X\")\n",
        "plt.ylabel(\"Y\")\n",
        "plt.title(\"Simple Linear Regression\")\n",
        "plt.legend()\n",
        "plt.show()\n",
        "\n",
        "# Print coefficients\n",
        "print(\"Intercept:\", model.intercept_)\n",
        "print(\"Slope:\", model.coef_[0])"
      ],
      "metadata": {
        "colab": {
          "base_uri": "https://localhost:8080/",
          "height": 507
        },
        "id": "Ae_HtqofIpbc",
        "outputId": "7592fece-a2df-4f8a-a41f-b2f09a6db8d0"
      },
      "execution_count": 8,
      "outputs": [
        {
          "output_type": "display_data",
          "data": {
            "text/plain": [
              "<Figure size 640x480 with 1 Axes>"
            ],
            "image/png": "[encoded data removed]"
          },
          "metadata": {}
        },
        {
          "output_type": "stream",
          "name": "stdout",
          "text": [
            "Intercept: 0.17999999999999794\n",
            "Slope: 1.9800000000000004\n"
          ]
        }
      ]
    },
    {
      "cell_type": "code",
      "source": [
        "#Question 7: Fit a Multiple Linear Regression model on this sample data:\n",
        "# ● Area = [1200, 1500, 1800, 2000]\n",
        "# ● Rooms = [2, 3, 3, 4]\n",
        "# ● Price = [250000, 300000, 320000, 370000]\n",
        "# Check for multicollinearity using VIF and report the results.\n",
        "# (Include your Python code and output in the code box below.)\n",
        "\n",
        "import numpy as np\n",
        "import pandas as pd\n",
        "import statsmodels.api as sm\n",
        "from statsmodels.stats.outliers_influence import variance_inflation_factor\n",
        "\n",
        "# Sample data\n",
        "Area = [1200, 1500, 1800, 2000]\n",
        "Rooms = [2, 3, 3, 4]\n",
        "Price = [250000, 300000, 320000, 370000]\n",
        "\n",
        "# Create DataFrame\n",
        "data = pd.DataFrame({\n",
        "    \"Area\": Area,\n",
        "    \"Rooms\": Rooms,\n",
        "    \"Price\": Price\n",
        "})\n",
        "\n",
        "# Independent variables (X) and dependent variable (y)\n",
        "X = data[[\"Area\", \"Rooms\"]]\n",
        "y = data[\"Price\"]\n",
        "\n",
        "# Add constant for intercept\n",
        "X_const = sm.add_constant(X)\n",
        "\n",
        "# Fit Multiple Linear Regression model\n",
        "model = sm.OLS(y, X_const).fit()\n",
        "\n",
        "# Calculate VIF for multicollinearity check\n",
        "vif_data = pd.DataFrame()\n",
        "vif_data[\"Feature\"] = X_const.columns\n",
        "vif_data[\"VIF\"] = [variance_inflation_factor(X_const.values, i)\n",
        "                   for i in range(X_const.shape[1])]\n",
        "\n",
        "print(model.summary())\n",
        "print(\"\\nVariance Inflation Factor (VIF):\\n\", vif_data)"
      ],
      "metadata": {
        "colab": {
          "base_uri": "https://localhost:8080/"
        },
        "id": "arnEVrVrJMWI",
        "outputId": "1568a9da-7121-4933-c42b-f131d5cff51d"
      },
      "execution_count": 9,
      "outputs": [
        {
          "output_type": "stream",
          "name": "stdout",
          "text": [
            "                            OLS Regression Results                            \n",
            "==============================================================================\n",
            "Dep. Variable:                  Price   R-squared:                       0.999\n",
            "Model:                            OLS   Adj. R-squared:                  0.996\n",
            "Method:                 Least Squares   F-statistic:                     351.0\n",
            "Date:                Fri, 29 Aug 2025   Prob (F-statistic):             0.0377\n",
            "Time:                        18:49:06   Log-Likelihood:                -35.242\n",
            "No. Observations:                   4   AIC:                             76.48\n",
            "Df Residuals:                       1   BIC:                             74.64\n",
            "Df Model:                           2                                         \n",
            "Covariance Type:            nonrobust                                         \n",
            "==============================================================================\n",
            "                 coef    std err          t      P>|t|      [0.025      0.975]\n",
            "------------------------------------------------------------------------------\n",
            "const       1.032e+05   9488.293     10.872      0.058   -1.74e+04    2.24e+05\n",
            "Area          63.1579     14.886      4.243      0.147    -125.992     252.308\n",
            "Rooms       3.474e+04   6381.240      5.444      0.116   -4.63e+04    1.16e+05\n",
            "==============================================================================\n",
            "Omnibus:                          nan   Durbin-Watson:                   2.053\n",
            "Prob(Omnibus):                    nan   Jarque-Bera (JB):                0.554\n",
            "Skew:                          -0.154   Prob(JB):                        0.758\n",
            "Kurtosis:                       1.202   Cond. No.                     1.01e+04\n",
            "==============================================================================\n",
            "\n",
            "Notes:\n",
            "[1] Standard Errors assume that the covariance matrix of the errors is correctly specified.\n",
            "[2] The condition number is large, 1.01e+04. This might indicate that there are\n",
            "strong multicollinearity or other numerical problems.\n",
            "\n",
            "Variance Inflation Factor (VIF):\n",
            "   Feature        VIF\n",
            "0   const  34.210526\n",
            "1    Area   7.736842\n",
            "2   Rooms   7.736842\n"
          ]
        },
        {
          "output_type": "stream",
          "name": "stderr",
          "text": [
            "/usr/local/lib/python3.12/dist-packages/statsmodels/stats/stattools.py:74: ValueWarning: omni_normtest is not valid with less than 8 observations; 4 samples were given.\n",
            "  warn(\"omni_normtest is not valid with less than 8 observations; %i \"\n"
          ]
        }
      ]
    },
    {
      "cell_type": "code",
      "source": [
        "# Question 8: Implement polynomial regression on the following data:\n",
        "# ● X = [1, 2, 3, 4, 5]\n",
        "# ● Y = [2.2, 4.8, 7.5, 11.2, 14.7]\n",
        "# Fit a 2nd-degree polynomial and plot the resulting curve.\n",
        "# (Include your Python code and output in the code box below.)\n",
        "\n",
        "import numpy as np\n",
        "import matplotlib.pyplot as plt\n",
        "from sklearn.preprocessing import PolynomialFeatures\n",
        "from sklearn.linear_model import LinearRegression\n",
        "\n",
        "# Sample data\n",
        "X = np.array([1, 2, 3, 4, 5]).reshape(-1, 1)\n",
        "Y = np.array([2.2, 4.8, 7.5, 11.2, 14.7])\n",
        "\n",
        "# Transform to polynomial features (degree 2)\n",
        "poly = PolynomialFeatures(degree=2)\n",
        "X_poly = poly.fit_transform(X)\n",
        "\n",
        "# Fit Polynomial Regression model\n",
        "model = LinearRegression()\n",
        "model.fit(X_poly, Y)\n",
        "\n",
        "# Predictions for smooth curve\n",
        "X_range = np.linspace(1, 5, 100).reshape(-1, 1)\n",
        "Y_pred = model.predict(poly.transform(X_range))\n",
        "\n",
        "# Plot data points and polynomial regression curve\n",
        "plt.scatter(X, Y, color=\"blue\", label=\"Data points\")\n",
        "plt.plot(X_range, Y_pred, color=\"red\", linewidth=2, label=\"Polynomial regression curve\")\n",
        "plt.xlabel(\"X\")\n",
        "plt.ylabel(\"Y\")\n",
        "plt.title(\"2nd-Degree Polynomial Regression\")\n",
        "plt.legend()\n",
        "plt.show()\n",
        "\n",
        "# Print coefficients\n",
        "print(\"Intercept:\", model.intercept_)\n",
        "print(\"Coefficients:\", model.coef_)"
      ],
      "metadata": {
        "colab": {
          "base_uri": "https://localhost:8080/",
          "height": 507
        },
        "id": "uZ5IDyQVKWgf",
        "outputId": "966ff957-7944-4f25-cdc6-8ecc7545b09a"
      },
      "execution_count": 10,
      "outputs": [
        {
          "output_type": "display_data",
          "data": {
            "text/plain": [
              "<Figure size 640x480 with 1 Axes>"
            ],
            "image/png": "[encoded data removed]"
          },
          "metadata": {}
        },
        {
          "output_type": "stream",
          "name": "stdout",
          "text": [
            "Intercept: 0.06000000000000938\n",
            "Coefficients: [0.   1.94 0.2 ]\n"
          ]
        }
      ]
    },
    {
      "cell_type": "code",
      "source": [
        "# Question 9: Create a residuals plot for a regression model trained on this data:\n",
        "# ● X = [10, 20, 30, 40, 50]\n",
        "# ● Y = [15, 35, 40, 50, 65]\n",
        "# Assess heteroscedasticity by examining the spread of residuals.\n",
        "# (Include your Python code and output in the code box below.)\n",
        "\n",
        "import numpy as np\n",
        "import matplotlib.pyplot as plt\n",
        "from sklearn.linear_model import LinearRegression\n",
        "\n",
        "# Sample data\n",
        "X = np.array([10, 20, 30, 40, 50]).reshape(-1, 1)\n",
        "Y = np.array([15, 35, 40, 50, 65])\n",
        "\n",
        "# Fit Linear Regression model\n",
        "model = LinearRegression()\n",
        "model.fit(X, Y)\n",
        "\n",
        "# Predictions\n",
        "Y_pred = model.predict(X)\n",
        "\n",
        "# Residuals\n",
        "residuals = Y - Y_pred\n",
        "\n",
        "# Plot residuals\n",
        "plt.scatter(X, residuals, color=\"blue\")\n",
        "plt.axhline(y=0, color=\"red\", linestyle=\"--\")\n",
        "plt.xlabel(\"X\")\n",
        "plt.ylabel(\"Residuals\")\n",
        "plt.title(\"Residuals Plot\")\n",
        "plt.show()\n",
        "\n",
        "# Print residuals\n",
        "for x_val, y_val, y_hat, res in zip(X.flatten(), Y, Y_pred, residuals):\n",
        "    print(f\"X={x_val}, Y={y_val}, Predicted={y_hat:.2f}, Residual={res:.2f}\")"
      ],
      "metadata": {
        "colab": {
          "base_uri": "https://localhost:8080/",
          "height": 559
        },
        "id": "rgpD3Lt3KpqX",
        "outputId": "f94820ce-7b1e-4d20-c449-c024e882874e"
      },
      "execution_count": 11,
      "outputs": [
        {
          "output_type": "display_data",
          "data": {
            "text/plain": [
              "<Figure size 640x480 with 1 Axes>"
            ],
            "image/png": "[encoded data removed]"
          },
          "metadata": {}
        },
        {
          "output_type": "stream",
          "name": "stdout",
          "text": [
            "X=10, Y=15, Predicted=18.00, Residual=-3.00\n",
            "X=20, Y=35, Predicted=29.50, Residual=5.50\n",
            "X=30, Y=40, Predicted=41.00, Residual=-1.00\n",
            "X=40, Y=50, Predicted=52.50, Residual=-2.50\n",
            "X=50, Y=65, Predicted=64.00, Residual=1.00\n"
          ]
        }
      ]
    },
    {
      "cell_type": "markdown",
      "metadata": {
        "id": "eb2a68cd"
      },
      "source": [
        "Question 10: Imagine you are a data scientist working for a real estate company. You need to predict house prices using features like area, number of rooms, and location.\n",
        "However, you detect heteroscedasticity and multicollinearity in your regression model. Explain the steps you would take to address these issues and ensure a robust model.\n",
        "\n",
        "1. Addressing Heteroscedasticity (non-constant variance of residuals)\n",
        "\n",
        "Heteroscedasticity means that the error variance changes with the predictor values (e.g., larger houses → larger prediction errors). This violates regression assumptions and makes standard errors unreliable.\n",
        "\n",
        "Steps to fix:\n",
        "\n",
        "Transform the dependent variable (Y):\n",
        "\n",
        "Apply a log, square-root, or Box-Cox transformation to stabilize variance.\n",
        "\n",
        "Example: Use $\\log(Price)$ instead of Price.\n",
        "\n",
        "Weighted Least Squares (WLS):\n",
        "\n",
        "Assign lower weights to data points with higher variance.\n",
        "\n",
        "This gives a more balanced fit.\n",
        "\n",
        "Robust Regression / Heteroscedasticity-consistent errors:\n",
        "\n",
        "Use robust standard errors (Huber-White / Newey-West) so inference remains valid even with heteroscedasticity.\n",
        "\n",
        "🔹 2. Addressing Multicollinearity (high correlation among predictors)\n",
        "\n",
        "Multicollinearity makes it hard to interpret coefficients and can inflate variance. For example, Area and Rooms are often strongly correlated.\n",
        "\n",
        "Steps to fix:\n",
        "\n",
        "Detect multicollinearity using VIF (Variance Inflation Factor):\n",
        "\n",
        "VIF > 5 (moderate) or >10 (severe) indicates multicollinearity.\n",
        "\n",
        "Feature Engineering / Removal:\n",
        "\n",
        "Drop redundant predictors (e.g., keep Area, drop Rooms if they are highly correlated).\n",
        "\n",
        "Combine correlated features:\n",
        "\n",
        "Instead of “Area” and “Rooms” separately, create a new feature like Price per Room or Area per Room.\n",
        "\n",
        "Regularization Techniques:\n",
        "\n",
        "Use Ridge Regression (L2) or Lasso Regression (L1).\n",
        "\n",
        "Ridge reduces the impact of multicollinearity by shrinking coefficients.\n",
        "\n",
        "Lasso can also perform feature selection (set some coefficients to zero).\n",
        "\n",
        "🔹 3. Ensuring a Robust Model\n",
        "\n",
        "Model Validation:\n",
        "\n",
        "Use cross-validation (e.g., k-fold CV) to ensure the model generalizes well.\n",
        "\n",
        "Scaling:\n",
        "\n",
        "Standardize/normalize predictors, especially before Ridge/Lasso regression.\n",
        "\n",
        "Alternative Models:\n",
        "\n",
        "If linear assumptions fail, consider Tree-based models (Random Forest, Gradient Boosting) which don’t assume linearity or homoscedasticity."
      ]
    }
  ]
}